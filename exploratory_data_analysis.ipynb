{
 "cells": [
  {
   "cell_type": "markdown",
   "metadata": {},
   "source": [
    "### Import libs and data"
   ]
  },
  {
   "cell_type": "code",
   "execution_count": 1,
   "metadata": {},
   "outputs": [],
   "source": [
    "import pandas as pd\n",
    "import seaborn as sns\n",
    "import numpy as np\n",
    "import matplotlib.pyplot as plt\n",
    "import datetime"
   ]
  },
  {
   "cell_type": "code",
   "execution_count": 2,
   "metadata": {},
   "outputs": [],
   "source": [
    "data = pd.read_csv(r'C:\\Users\\Achilles\\PycharmProjects\\data\\Spotify\\spotify-public-dataset.csv')"
   ]
  },
  {
   "cell_type": "markdown",
   "metadata": {},
   "source": [
    "### Exploratory analysis"
   ]
  },
  {
   "cell_type": "code",
   "execution_count": 3,
   "metadata": {},
   "outputs": [
    {
     "data": {
      "text/html": [
       "<div>\n",
       "<style scoped>\n",
       "    .dataframe tbody tr th:only-of-type {\n",
       "        vertical-align: middle;\n",
       "    }\n",
       "\n",
       "    .dataframe tbody tr th {\n",
       "        vertical-align: top;\n",
       "    }\n",
       "\n",
       "    .dataframe thead th {\n",
       "        text-align: right;\n",
       "    }\n",
       "</style>\n",
       "<table border=\"1\" class=\"dataframe\">\n",
       "  <thead>\n",
       "    <tr style=\"text-align: right;\">\n",
       "      <th></th>\n",
       "      <th>message_id</th>\n",
       "      <th>message_type</th>\n",
       "      <th>author_id</th>\n",
       "      <th>author_type</th>\n",
       "      <th>severity</th>\n",
       "      <th>message_body</th>\n",
       "      <th>created_at</th>\n",
       "    </tr>\n",
       "  </thead>\n",
       "  <tbody>\n",
       "    <tr>\n",
       "      <th>0</th>\n",
       "      <td>2391986</td>\n",
       "      <td>ticket</td>\n",
       "      <td>354084</td>\n",
       "      <td>NaN</td>\n",
       "      <td>urgent</td>\n",
       "      <td>@SpotifyCares haha. I love the link to the tra...</td>\n",
       "      <td>2017-11-14T13:53:58+00:00</td>\n",
       "    </tr>\n",
       "    <tr>\n",
       "      <th>1</th>\n",
       "      <td>617831</td>\n",
       "      <td>chat</td>\n",
       "      <td>266588</td>\n",
       "      <td>lead</td>\n",
       "      <td>urgent</td>\n",
       "      <td>@SpotifyCares Can you follow me?</td>\n",
       "      <td>2017-11-22T14:17:11+00:00</td>\n",
       "    </tr>\n",
       "    <tr>\n",
       "      <th>2</th>\n",
       "      <td>356960</td>\n",
       "      <td>email</td>\n",
       "      <td>200756</td>\n",
       "      <td>lead</td>\n",
       "      <td>low</td>\n",
       "      <td>@SpotifyCares Fingers crossed? How about sayin...</td>\n",
       "      <td>2017-11-29T15:48:37+00:00</td>\n",
       "    </tr>\n",
       "    <tr>\n",
       "      <th>3</th>\n",
       "      <td>1118813</td>\n",
       "      <td>ticket</td>\n",
       "      <td>383965</td>\n",
       "      <td>user</td>\n",
       "      <td>low</td>\n",
       "      <td>@SpotifyCares Only FTNICR and Never Too Late a...</td>\n",
       "      <td>2017-10-24T04:44:59+00:00</td>\n",
       "    </tr>\n",
       "    <tr>\n",
       "      <th>4</th>\n",
       "      <td>314098</td>\n",
       "      <td>chat</td>\n",
       "      <td>190991</td>\n",
       "      <td>user</td>\n",
       "      <td>urgent</td>\n",
       "      <td>@SpotifyCares Is it that one? https://t.co/ZKp...</td>\n",
       "      <td>2017-10-07T05:54:31+00:00</td>\n",
       "    </tr>\n",
       "  </tbody>\n",
       "</table>\n",
       "</div>"
      ],
      "text/plain": [
       "   message_id message_type author_id author_type severity  \\\n",
       "0     2391986       ticket    354084         NaN   urgent   \n",
       "1      617831         chat    266588        lead   urgent   \n",
       "2      356960        email    200756        lead      low   \n",
       "3     1118813       ticket    383965        user      low   \n",
       "4      314098         chat    190991        user   urgent   \n",
       "\n",
       "                                        message_body  \\\n",
       "0  @SpotifyCares haha. I love the link to the tra...   \n",
       "1                   @SpotifyCares Can you follow me?   \n",
       "2  @SpotifyCares Fingers crossed? How about sayin...   \n",
       "3  @SpotifyCares Only FTNICR and Never Too Late a...   \n",
       "4  @SpotifyCares Is it that one? https://t.co/ZKp...   \n",
       "\n",
       "                  created_at  \n",
       "0  2017-11-14T13:53:58+00:00  \n",
       "1  2017-11-22T14:17:11+00:00  \n",
       "2  2017-11-29T15:48:37+00:00  \n",
       "3  2017-10-24T04:44:59+00:00  \n",
       "4  2017-10-07T05:54:31+00:00  "
      ]
     },
     "execution_count": 3,
     "metadata": {},
     "output_type": "execute_result"
    }
   ],
   "source": [
    "data.head()"
   ]
  },
  {
   "cell_type": "code",
   "execution_count": 4,
   "metadata": {},
   "outputs": [
    {
     "data": {
      "text/html": [
       "<div>\n",
       "<style scoped>\n",
       "    .dataframe tbody tr th:only-of-type {\n",
       "        vertical-align: middle;\n",
       "    }\n",
       "\n",
       "    .dataframe tbody tr th {\n",
       "        vertical-align: top;\n",
       "    }\n",
       "\n",
       "    .dataframe thead th {\n",
       "        text-align: right;\n",
       "    }\n",
       "</style>\n",
       "<table border=\"1\" class=\"dataframe\">\n",
       "  <thead>\n",
       "    <tr style=\"text-align: right;\">\n",
       "      <th></th>\n",
       "      <th>message_id</th>\n",
       "    </tr>\n",
       "  </thead>\n",
       "  <tbody>\n",
       "    <tr>\n",
       "      <th>count</th>\n",
       "      <td>1.500000e+04</td>\n",
       "    </tr>\n",
       "    <tr>\n",
       "      <th>mean</th>\n",
       "      <td>4.556656e+06</td>\n",
       "    </tr>\n",
       "    <tr>\n",
       "      <th>std</th>\n",
       "      <td>6.058574e+07</td>\n",
       "    </tr>\n",
       "    <tr>\n",
       "      <th>min</th>\n",
       "      <td>8.500000e+02</td>\n",
       "    </tr>\n",
       "    <tr>\n",
       "      <th>25%</th>\n",
       "      <td>8.399548e+05</td>\n",
       "    </tr>\n",
       "    <tr>\n",
       "      <th>50%</th>\n",
       "      <td>1.670458e+06</td>\n",
       "    </tr>\n",
       "    <tr>\n",
       "      <th>75%</th>\n",
       "      <td>2.246046e+06</td>\n",
       "    </tr>\n",
       "    <tr>\n",
       "      <th>max</th>\n",
       "      <td>1.550548e+09</td>\n",
       "    </tr>\n",
       "  </tbody>\n",
       "</table>\n",
       "</div>"
      ],
      "text/plain": [
       "         message_id\n",
       "count  1.500000e+04\n",
       "mean   4.556656e+06\n",
       "std    6.058574e+07\n",
       "min    8.500000e+02\n",
       "25%    8.399548e+05\n",
       "50%    1.670458e+06\n",
       "75%    2.246046e+06\n",
       "max    1.550548e+09"
      ]
     },
     "execution_count": 4,
     "metadata": {},
     "output_type": "execute_result"
    }
   ],
   "source": [
    "data.describe()"
   ]
  },
  {
   "cell_type": "code",
   "execution_count": 5,
   "metadata": {},
   "outputs": [
    {
     "name": "stdout",
     "output_type": "stream",
     "text": [
      "<class 'pandas.core.frame.DataFrame'>\n",
      "RangeIndex: 15000 entries, 0 to 14999\n",
      "Data columns (total 7 columns):\n",
      " #   Column        Non-Null Count  Dtype \n",
      "---  ------        --------------  ----- \n",
      " 0   message_id    15000 non-null  int64 \n",
      " 1   message_type  11248 non-null  object\n",
      " 2   author_id     15000 non-null  object\n",
      " 3   author_type   9944 non-null   object\n",
      " 4   severity      15000 non-null  object\n",
      " 5   message_body  14986 non-null  object\n",
      " 6   created_at    15000 non-null  object\n",
      "dtypes: int64(1), object(6)\n",
      "memory usage: 468.8+ KB\n"
     ]
    }
   ],
   "source": [
    "data.info()"
   ]
  },
  {
   "cell_type": "markdown",
   "metadata": {},
   "source": [
    "- 14 instances of missing `message_body` drop those\n",
    "- Quite a few missing data for `message_type` let's impute this with most frequent value (check day of week and hour of day distribution might be informative towards doing smarter imputation)\n",
    "- Same for `author_type`\n",
    "- `created_at` hasn't parsed a datetime object, need to fix this. The timestamps are timezone aware so need make sure we pass on this info correctly. From a quick inspection looks like a timezone aware object has been created, in `UTC` timezone."
   ]
  },
  {
   "cell_type": "code",
   "execution_count": 6,
   "metadata": {},
   "outputs": [
    {
     "data": {
      "text/plain": [
       "<UTC>"
      ]
     },
     "execution_count": 6,
     "metadata": {},
     "output_type": "execute_result"
    }
   ],
   "source": [
    "data.created_at = pd.to_datetime(data.created_at)#.dt.tz_convert('GMT')\n",
    "data.created_at[0].tzinfo "
   ]
  },
  {
   "cell_type": "markdown",
   "metadata": {},
   "source": [
    "Drop empty messages."
   ]
  },
  {
   "cell_type": "code",
   "execution_count": 7,
   "metadata": {},
   "outputs": [],
   "source": [
    "data = data.dropna(subset=['message_body'])"
   ]
  },
  {
   "cell_type": "markdown",
   "metadata": {},
   "source": [
    "Let's drop `message_id` we don't need a unique identifier as a feature."
   ]
  },
  {
   "cell_type": "code",
   "execution_count": 8,
   "metadata": {},
   "outputs": [],
   "source": [
    "data = data.drop(columns='message_id')"
   ]
  },
  {
   "cell_type": "markdown",
   "metadata": {},
   "source": [
    "Let's inspect what values all categorical features can take and what the distribution of tickets looks like."
   ]
  },
  {
   "cell_type": "code",
   "execution_count": 9,
   "metadata": {},
   "outputs": [
    {
     "name": "stdout",
     "output_type": "stream",
     "text": [
      "message_type ['ticket' 'chat' 'email']\n",
      "author_type ['lead' 'user']\n",
      "severity ['urgent' 'low' 'medium']\n"
     ]
    }
   ],
   "source": [
    "for col in ['message_type', 'author_type', 'severity']:\n",
    "    print(col, data[col].dropna().unique())"
   ]
  },
  {
   "cell_type": "code",
   "execution_count": 10,
   "metadata": {},
   "outputs": [
    {
     "data": {
      "image/png": "[encoded data removed]",
      "text/plain": [
       "<Figure size 432x288 with 1 Axes>"
      ]
     },
     "metadata": {
      "needs_background": "light"
     },
     "output_type": "display_data"
    }
   ],
   "source": [
    "for col in ['message_type', 'author_type', 'severity']:\n",
    "    data[col].hist()"
   ]
  },
  {
   "cell_type": "code",
   "execution_count": 11,
   "metadata": {},
   "outputs": [
    {
     "data": {
      "text/plain": [
       "<seaborn.axisgrid.FacetGrid at 0x457d568>"
      ]
     },
     "execution_count": 11,
     "metadata": {},
     "output_type": "execute_result"
    },
    {
     "data": {
      "image/png": "[encoded data removed]",
      "text/plain": [
       "<Figure size 432x216 with 2 Axes>"
      ]
     },
     "metadata": {
      "needs_background": "light"
     },
     "output_type": "display_data"
    },
    {
     "data": {
      "image/png": "[encoded data removed]",
      "text/plain": [
       "<Figure size 432x216 with 2 Axes>"
      ]
     },
     "metadata": {
      "needs_background": "light"
     },
     "output_type": "display_data"
    },
    {
     "data": {
      "image/png": "[encoded data removed]",
      "text/plain": [
       "<Figure size 648x216 with 3 Axes>"
      ]
     },
     "metadata": {
      "needs_background": "light"
     },
     "output_type": "display_data"
    }
   ],
   "source": [
    "sns.catplot(x='severity', col='author_type', kind='count', data=data, height=3)\n",
    "sns.catplot(x='message_type', col='author_type', kind='count', data=data, height=3)\n",
    "sns.catplot(x='message_type', col='severity', kind='count', data=data, height=3)"
   ]
  },
  {
   "cell_type": "markdown",
   "metadata": {},
   "source": [
    "Ok our data is very evenly distributed overall, no over/under-indexing for particular segments."
   ]
  },
  {
   "cell_type": "markdown",
   "metadata": {},
   "source": [
    "Let's extract some additional temporal features from our timestamps."
   ]
  },
  {
   "cell_type": "code",
   "execution_count": 12,
   "metadata": {},
   "outputs": [],
   "source": [
    "# inject temporal features\n",
    "data['dow'] = data['created_at'].dt.day_name()\n",
    "data['month'] = data['created_at'].dt.month_name()\n",
    "data['hour'] = data['created_at'].dt.hour\n",
    "data['doy'] = data['created_at'].apply(lambda x: x.strftime('%j'))\n",
    "data['weekday'] = ['weekday' if x < 5 else 'weekend' for x in data['created_at'].dt.dayofweek]\n",
    "data['business_hours'] = ['business_hours' if (7 < x.hour < 19 and x.dayofweek < 5)\n",
    "                           else 'no_business_hours' for x in data['created_at']]"
   ]
  },
  {
   "cell_type": "code",
   "execution_count": 13,
   "metadata": {},
   "outputs": [
    {
     "data": {
      "image/png": "[encoded data removed]",
      "text/plain": [
       "<Figure size 1440x360 with 5 Axes>"
      ]
     },
     "metadata": {
      "needs_background": "light"
     },
     "output_type": "display_data"
    }
   ],
   "source": [
    "fig, axes = plt.subplots(figsize=(20,5), nrows=1, ncols=5)\n",
    "for i, col in enumerate(['dow', 'month', 'hour', 'weekday', 'business_hours']):\n",
    "    data[col].hist(ax=axes[i], figsize=(20,5))"
   ]
  },
  {
   "cell_type": "markdown",
   "metadata": {},
   "source": [
    "Now let's examine all time-related aspects of our data."
   ]
  },
  {
   "cell_type": "code",
   "execution_count": 14,
   "metadata": {},
   "outputs": [
    {
     "data": {
      "text/plain": [
       "<matplotlib.axes._subplots.AxesSubplot at 0x1dbebb38>"
      ]
     },
     "execution_count": 14,
     "metadata": {},
     "output_type": "execute_result"
    },
    {
     "data": {
      "image/png": "[encoded data removed]",
      "text/plain": [
       "<Figure size 432x288 with 1 Axes>"
      ]
     },
     "metadata": {
      "needs_background": "light"
     },
     "output_type": "display_data"
    }
   ],
   "source": [
    "data.resample('W', on='created_at')['message_type'].count().plot.line()"
   ]
  },
  {
   "cell_type": "code",
   "execution_count": 15,
   "metadata": {},
   "outputs": [
    {
     "data": {
      "text/plain": [
       "(17440.0, 17505.0)"
      ]
     },
     "execution_count": 15,
     "metadata": {},
     "output_type": "execute_result"
    },
    {
     "data": {
      "image/png": "[encoded data removed]",
      "text/plain": [
       "<Figure size 432x288 with 1 Axes>"
      ]
     },
     "metadata": {
      "needs_background": "light"
     },
     "output_type": "display_data"
    }
   ],
   "source": [
    "data.resample('D', on='created_at')['message_type'].count().plot.line()\n",
    "plt.xlim('2017-10-01', '2017-12-05')"
   ]
  },
  {
   "cell_type": "markdown",
   "metadata": {},
   "source": [
    "The vast majority of our data has been collected in late 2017. Treading on the cautious side let's drop the few data points that are outside of this range as conversational themes tend to change over time. Not sure how relevant this assumption is here but it's a very small amount of data so might as well be safe."
   ]
  },
  {
   "cell_type": "code",
   "execution_count": 16,
   "metadata": {},
   "outputs": [
    {
     "name": "stdout",
     "output_type": "stream",
     "text": [
      "Dropped 98 rows\n"
     ]
    }
   ],
   "source": [
    "count = data.shape[0]\n",
    "data = data[(data.created_at >= datetime.datetime(2017, 10, 1, tzinfo=data.created_at.dt.tz)) & \n",
    "            (data.created_at <= datetime.datetime(2017, 12, 5, tzinfo=data.created_at.dt.tz))]\n",
    "print('Dropped %i rows' % (int(count)-int(data.shape[0])))"
   ]
  },
  {
   "cell_type": "markdown",
   "metadata": {},
   "source": [
    "A quick search for patterns, see if any segments are over/under indexing in particular times/days etc."
   ]
  },
  {
   "cell_type": "code",
   "execution_count": 17,
   "metadata": {
    "scrolled": true
   },
   "outputs": [
    {
     "data": {
      "image/png": "[encoded data removed]",
      "text/plain": [
       "<Figure size 1440x216 with 3 Axes>"
      ]
     },
     "metadata": {
      "needs_background": "light"
     },
     "output_type": "display_data"
    }
   ],
   "source": [
    "fig, axes = plt.subplots(figsize=(20,3), nrows=1, ncols=3)\n",
    "for i, col in enumerate(['message_type', 'author_type', 'severity']):\n",
    "    for value in data[col].unique():\n",
    "        data[data[col]==value].created_at.dt.hour.hist(ax=axes[i], figsize=(20,3), bins=24)\n",
    "plt.show()"
   ]
  },
  {
   "cell_type": "code",
   "execution_count": 18,
   "metadata": {},
   "outputs": [
    {
     "data": {
      "image/png": "[encoded data removed]",
      "text/plain": [
       "<Figure size 1440x216 with 3 Axes>"
      ]
     },
     "metadata": {
      "needs_background": "light"
     },
     "output_type": "display_data"
    }
   ],
   "source": [
    "fig, axes = plt.subplots(figsize=(20,3), nrows=1, ncols=3)\n",
    "for i, col in enumerate(['message_type', 'author_type', 'severity']):\n",
    "    for value in data[col].unique():\n",
    "        data[data[col]==value].created_at.dt.day_name().hist(ax=axes[i], figsize=(20,3), bins=7)\n",
    "plt.show()"
   ]
  },
  {
   "cell_type": "code",
   "execution_count": 19,
   "metadata": {},
   "outputs": [
    {
     "data": {
      "image/png": "[encoded data removed]",
      "text/plain": [
       "<Figure size 1440x216 with 3 Axes>"
      ]
     },
     "metadata": {
      "needs_background": "light"
     },
     "output_type": "display_data"
    }
   ],
   "source": [
    "fig, axes = plt.subplots(figsize=(20,3), nrows=1, ncols=3)\n",
    "for i, col in enumerate(['message_type', 'author_type', 'severity']):\n",
    "    for value in data[col].unique():\n",
    "        data[data[col]==value].created_at.dt.month_name().hist(ax=axes[i], figsize=(20,3), bins=3)\n",
    "plt.show()"
   ]
  },
  {
   "cell_type": "code",
   "execution_count": 20,
   "metadata": {},
   "outputs": [
    {
     "data": {
      "image/png": "[encoded data removed]",
      "text/plain": [
       "<Figure size 1440x216 with 3 Axes>"
      ]
     },
     "metadata": {
      "needs_background": "light"
     },
     "output_type": "display_data"
    }
   ],
   "source": [
    "fig, axes = plt.subplots(figsize=(20,3), nrows=1, ncols=3)\n",
    "for i, col in enumerate(['message_type', 'author_type', 'severity']):\n",
    "    for value in data[col].unique():\n",
    "        data[data[col]==value].weekday.hist(ax=axes[i], figsize=(20,3), bins=2)\n",
    "plt.show()"
   ]
  },
  {
   "cell_type": "code",
   "execution_count": 21,
   "metadata": {},
   "outputs": [
    {
     "data": {
      "image/png": "[encoded data removed]",
      "text/plain": [
       "<Figure size 1440x216 with 3 Axes>"
      ]
     },
     "metadata": {
      "needs_background": "light"
     },
     "output_type": "display_data"
    }
   ],
   "source": [
    "fig, axes = plt.subplots(figsize=(20,3), nrows=1, ncols=3)\n",
    "for i, col in enumerate(['message_type', 'author_type', 'severity']):\n",
    "    for value in data[col].unique():\n",
    "        data[data[col]==value].business_hours.hist(ax=axes[i], figsize=(20,3), bins=2)\n",
    "plt.show()"
   ]
  },
  {
   "cell_type": "markdown",
   "metadata": {},
   "source": [
    "Nothing really stands out too much."
   ]
  },
  {
   "cell_type": "code",
   "execution_count": 22,
   "metadata": {},
   "outputs": [
    {
     "data": {
      "image/png": "[encoded data removed]",
      "text/plain": [
       "<Figure size 432x288 with 2 Axes>"
      ]
     },
     "metadata": {
      "needs_background": "light"
     },
     "output_type": "display_data"
    }
   ],
   "source": [
    "sns.heatmap(pd.crosstab(data.dow, data.hour))\n",
    "plt.title('Count of tickets raised at particular times during each day in the week')\n",
    "plt.yticks(range(7), ['Monday', 'Tuesday', 'Wednesday', 'Thursday', 'Friday', 'Saturday', 'Sunday'], rotation=0) \n",
    "plt.show()"
   ]
  },
  {
   "cell_type": "markdown",
   "metadata": {},
   "source": [
    "Most tickets are coming in in afternoon, evening and night hours."
   ]
  },
  {
   "cell_type": "markdown",
   "metadata": {},
   "source": [
    "### Let's dig in the actuall interesting data\n",
    "First let's have a peek at some samples."
   ]
  },
  {
   "cell_type": "code",
   "execution_count": 23,
   "metadata": {},
   "outputs": [
    {
     "data": {
      "text/html": [
       "<div>\n",
       "<style scoped>\n",
       "    .dataframe tbody tr th:only-of-type {\n",
       "        vertical-align: middle;\n",
       "    }\n",
       "\n",
       "    .dataframe tbody tr th {\n",
       "        vertical-align: top;\n",
       "    }\n",
       "\n",
       "    .dataframe thead th {\n",
       "        text-align: right;\n",
       "    }\n",
       "</style>\n",
       "<table border=\"1\" class=\"dataframe\">\n",
       "  <thead>\n",
       "    <tr style=\"text-align: right;\">\n",
       "      <th></th>\n",
       "      <th>message_type</th>\n",
       "      <th>author_id</th>\n",
       "      <th>author_type</th>\n",
       "      <th>severity</th>\n",
       "      <th>message_body</th>\n",
       "      <th>created_at</th>\n",
       "      <th>dow</th>\n",
       "      <th>month</th>\n",
       "      <th>hour</th>\n",
       "      <th>doy</th>\n",
       "      <th>weekday</th>\n",
       "      <th>business_hours</th>\n",
       "    </tr>\n",
       "  </thead>\n",
       "  <tbody>\n",
       "    <tr>\n",
       "      <th>0</th>\n",
       "      <td>ticket</td>\n",
       "      <td>354084</td>\n",
       "      <td>NaN</td>\n",
       "      <td>urgent</td>\n",
       "      <td>@SpotifyCares haha. I love the link to the tra...</td>\n",
       "      <td>2017-11-14 13:53:58+00:00</td>\n",
       "      <td>Tuesday</td>\n",
       "      <td>November</td>\n",
       "      <td>13</td>\n",
       "      <td>318</td>\n",
       "      <td>weekday</td>\n",
       "      <td>business_hours</td>\n",
       "    </tr>\n",
       "    <tr>\n",
       "      <th>1</th>\n",
       "      <td>chat</td>\n",
       "      <td>266588</td>\n",
       "      <td>lead</td>\n",
       "      <td>urgent</td>\n",
       "      <td>@SpotifyCares Can you follow me?</td>\n",
       "      <td>2017-11-22 14:17:11+00:00</td>\n",
       "      <td>Wednesday</td>\n",
       "      <td>November</td>\n",
       "      <td>14</td>\n",
       "      <td>326</td>\n",
       "      <td>weekday</td>\n",
       "      <td>business_hours</td>\n",
       "    </tr>\n",
       "    <tr>\n",
       "      <th>2</th>\n",
       "      <td>email</td>\n",
       "      <td>200756</td>\n",
       "      <td>lead</td>\n",
       "      <td>low</td>\n",
       "      <td>@SpotifyCares Fingers crossed? How about sayin...</td>\n",
       "      <td>2017-11-29 15:48:37+00:00</td>\n",
       "      <td>Wednesday</td>\n",
       "      <td>November</td>\n",
       "      <td>15</td>\n",
       "      <td>333</td>\n",
       "      <td>weekday</td>\n",
       "      <td>business_hours</td>\n",
       "    </tr>\n",
       "    <tr>\n",
       "      <th>3</th>\n",
       "      <td>ticket</td>\n",
       "      <td>383965</td>\n",
       "      <td>user</td>\n",
       "      <td>low</td>\n",
       "      <td>@SpotifyCares Only FTNICR and Never Too Late a...</td>\n",
       "      <td>2017-10-24 04:44:59+00:00</td>\n",
       "      <td>Tuesday</td>\n",
       "      <td>October</td>\n",
       "      <td>4</td>\n",
       "      <td>297</td>\n",
       "      <td>weekday</td>\n",
       "      <td>no_business_hours</td>\n",
       "    </tr>\n",
       "    <tr>\n",
       "      <th>4</th>\n",
       "      <td>chat</td>\n",
       "      <td>190991</td>\n",
       "      <td>user</td>\n",
       "      <td>urgent</td>\n",
       "      <td>@SpotifyCares Is it that one? https://t.co/ZKp...</td>\n",
       "      <td>2017-10-07 05:54:31+00:00</td>\n",
       "      <td>Saturday</td>\n",
       "      <td>October</td>\n",
       "      <td>5</td>\n",
       "      <td>280</td>\n",
       "      <td>weekend</td>\n",
       "      <td>no_business_hours</td>\n",
       "    </tr>\n",
       "  </tbody>\n",
       "</table>\n",
       "</div>"
      ],
      "text/plain": [
       "  message_type author_id author_type severity  \\\n",
       "0       ticket    354084         NaN   urgent   \n",
       "1         chat    266588        lead   urgent   \n",
       "2        email    200756        lead      low   \n",
       "3       ticket    383965        user      low   \n",
       "4         chat    190991        user   urgent   \n",
       "\n",
       "                                        message_body  \\\n",
       "0  @SpotifyCares haha. I love the link to the tra...   \n",
       "1                   @SpotifyCares Can you follow me?   \n",
       "2  @SpotifyCares Fingers crossed? How about sayin...   \n",
       "3  @SpotifyCares Only FTNICR and Never Too Late a...   \n",
       "4  @SpotifyCares Is it that one? https://t.co/ZKp...   \n",
       "\n",
       "                 created_at        dow     month  hour  doy  weekday  \\\n",
       "0 2017-11-14 13:53:58+00:00    Tuesday  November    13  318  weekday   \n",
       "1 2017-11-22 14:17:11+00:00  Wednesday  November    14  326  weekday   \n",
       "2 2017-11-29 15:48:37+00:00  Wednesday  November    15  333  weekday   \n",
       "3 2017-10-24 04:44:59+00:00    Tuesday   October     4  297  weekday   \n",
       "4 2017-10-07 05:54:31+00:00   Saturday   October     5  280  weekend   \n",
       "\n",
       "      business_hours  \n",
       "0     business_hours  \n",
       "1     business_hours  \n",
       "2     business_hours  \n",
       "3  no_business_hours  \n",
       "4  no_business_hours  "
      ]
     },
     "execution_count": 23,
     "metadata": {},
     "output_type": "execute_result"
    }
   ],
   "source": [
    "data.head()"
   ]
  },
  {
   "cell_type": "code",
   "execution_count": 24,
   "metadata": {
    "scrolled": false
   },
   "outputs": [
    {
     "data": {
      "text/plain": [
       "'@SpotifyCares is there a way 2 edit the \"release radar\" playlist. Mine keeps adding Spanish music &amp; I don\\'t listen to Spanish music'"
      ]
     },
     "metadata": {},
     "output_type": "display_data"
    },
    {
     "data": {
      "text/plain": [
       "\"@SpotifyCares Hi Spotify, this doesn't answer my question. I want to know if I can retrieve lost messages :(\""
      ]
     },
     "metadata": {},
     "output_type": "display_data"
    },
    {
     "data": {
      "text/plain": [
       "\"@SpotifyCares It's been 4 years (&amp; 666 votes) since people have asked for Spotify Connect support on the Roku, when will you implement this?\""
      ]
     },
     "metadata": {},
     "output_type": "display_data"
    },
    {
     "data": {
      "text/plain": [
       "'@SpotifyCares @115888 does spotify have an equalizer yet?'"
      ]
     },
     "metadata": {},
     "output_type": "display_data"
    },
    {
     "data": {
      "text/plain": [
       "'@SpotifyCares The option to add this entire playlist, to another playlist, rather than adding it song by song, is gone? https://t.co/oYkpSqGKSM'"
      ]
     },
     "metadata": {},
     "output_type": "display_data"
    },
    {
     "data": {
      "text/plain": [
       "'@SpotifyCares I’m trying to sync my Spotify account with my Alexa and it keeps saying I don’t have an email address associated w/ FB.  I also can’t log in to my Spotify account.'"
      ]
     },
     "metadata": {},
     "output_type": "display_data"
    },
    {
     "data": {
      "text/plain": [
       "'@SpotifyCares Cheers Samsung s7 edge android 7.0 and Spotify premium version 8. Something. 🖒'"
      ]
     },
     "metadata": {},
     "output_type": "display_data"
    },
    {
     "data": {
      "text/plain": [
       "'@SpotifyCares So much for ‘digital remaster’ eh? :/'"
      ]
     },
     "metadata": {},
     "output_type": "display_data"
    },
    {
     "data": {
      "text/plain": [
       "'@SpotifyCares when my name is searched on spotify it comes up twice and one of them has nothing on it. Why is that?'"
      ]
     },
     "metadata": {},
     "output_type": "display_data"
    },
    {
     "data": {
      "text/plain": [
       "'Hey @115888 @SpotifyCares, why is it still so complicated and unintuitive to get a playlist from a link into the desktop app?'"
      ]
     },
     "metadata": {},
     "output_type": "display_data"
    }
   ],
   "source": [
    "samples = 10\n",
    "sampled_data = data.sample(samples)\n",
    "for i in range(samples):\n",
    "    display(sampled_data.message_body[:samples].values[i])"
   ]
  },
  {
   "cell_type": "markdown",
   "metadata": {},
   "source": [
    "I've seen some entries that are not in English, the process I follow here only applies to English, given that language identification is a tough problem in its own right, I won't address this here, leave it out of scope, ingest the non-English data as usual as we can't easily identify and drop.\n",
    "\n",
    "Let's extract the Twitter handles as a separate feature and remove it from the message body afterwards."
   ]
  },
  {
   "cell_type": "code",
   "execution_count": 25,
   "metadata": {},
   "outputs": [
    {
     "name": "stderr",
     "output_type": "stream",
     "text": [
      "<ipython-input-25-ce8e9b805b4a>:3: SettingWithCopyWarning: \n",
      "A value is trying to be set on a copy of a slice from a DataFrame.\n",
      "Try using .loc[row_indexer,col_indexer] = value instead\n",
      "\n",
      "See the caveats in the documentation: https://pandas.pydata.org/pandas-docs/stable/user_guide/indexing.html#returning-a-view-versus-a-copy\n",
      "  data['handle'] = data['message_body'].apply(lambda x: handle.findall(x)[0])\n"
     ]
    }
   ],
   "source": [
    "import re\n",
    "handle = re.compile(r'@([^\\s:]+)')\n",
    "data['handle'] = data['message_body'].apply(lambda x: handle.findall(x)[0])"
   ]
  },
  {
   "cell_type": "markdown",
   "metadata": {},
   "source": [
    "Looks like the overwhelming majority are addressed at `@SpotifyCares` \n",
    "\n",
    "Let's also clean those that we didn't parse properly."
   ]
  },
  {
   "cell_type": "code",
   "execution_count": 26,
   "metadata": {},
   "outputs": [
    {
     "data": {
      "text/plain": [
       "handle\n",
       "SpotifyCares     13706\n",
       "115888             505\n",
       "SpotifyCares,       79\n",
       "117153              51\n",
       "SpotifyCares.       32\n",
       "                 ...  \n",
       "5413                 1\n",
       "547719               1\n",
       "547745               1\n",
       "549077               1\n",
       "1008                 1\n",
       "Length: 357, dtype: int64"
      ]
     },
     "execution_count": 26,
     "metadata": {},
     "output_type": "execute_result"
    }
   ],
   "source": [
    "data.groupby('handle').size().sort_values(ascending=False)"
   ]
  },
  {
   "cell_type": "code",
   "execution_count": 27,
   "metadata": {},
   "outputs": [
    {
     "name": "stderr",
     "output_type": "stream",
     "text": [
      "c:\\users\\achilles\\appdata\\local\\programs\\python\\python38-32\\lib\\site-packages\\pandas\\core\\indexing.py:965: SettingWithCopyWarning: \n",
      "A value is trying to be set on a copy of a slice from a DataFrame.\n",
      "Try using .loc[row_indexer,col_indexer] = value instead\n",
      "\n",
      "See the caveats in the documentation: https://pandas.pydata.org/pandas-docs/stable/user_guide/indexing.html#returning-a-view-versus-a-copy\n",
      "  self.obj[item] = s\n"
     ]
    }
   ],
   "source": [
    "data.loc[data['handle'].str.contains('SpotifyCares'), 'handle'] = 'SpotifyCares'"
   ]
  },
  {
   "cell_type": "code",
   "execution_count": 28,
   "metadata": {},
   "outputs": [],
   "source": [
    "data.loc[:, 'message_body'] = data['message_body'].str.replace(r'@([^\\s:]+)', r'')"
   ]
  },
  {
   "cell_type": "markdown",
   "metadata": {},
   "source": [
    "Let's do the same for URLs"
   ]
  },
  {
   "cell_type": "code",
   "execution_count": 29,
   "metadata": {},
   "outputs": [
    {
     "name": "stderr",
     "output_type": "stream",
     "text": [
      "c:\\users\\achilles\\appdata\\local\\programs\\python\\python38-32\\lib\\site-packages\\pandas\\core\\indexing.py:844: SettingWithCopyWarning: \n",
      "A value is trying to be set on a copy of a slice from a DataFrame.\n",
      "Try using .loc[row_indexer,col_indexer] = value instead\n",
      "\n",
      "See the caveats in the documentation: https://pandas.pydata.org/pandas-docs/stable/user_guide/indexing.html#returning-a-view-versus-a-copy\n",
      "  self.obj[key] = _infer_fill_value(value)\n"
     ]
    }
   ],
   "source": [
    "url = re.compile(r'http\\S+')\n",
    "data.loc[:, 'url'] = data['message_body'].apply(lambda x: url.findall(x)[0] if len(url.findall(x))>0 else np.nan)\n",
    "data.loc[:, 'includes_url'] = data['message_body'].apply(lambda x: 1 if r'http' in x else 0)\n",
    "data.loc[:, 'message_body'] = data['message_body'].str.replace(r'http\\S+', r'')"
   ]
  },
  {
   "cell_type": "markdown",
   "metadata": {},
   "source": [
    "Let's get some additional basic features"
   ]
  },
  {
   "cell_type": "code",
   "execution_count": 30,
   "metadata": {},
   "outputs": [
    {
     "name": "stderr",
     "output_type": "stream",
     "text": [
      "c:\\users\\achilles\\appdata\\local\\programs\\python\\python38-32\\lib\\site-packages\\pandas\\core\\indexing.py:844: SettingWithCopyWarning: \n",
      "A value is trying to be set on a copy of a slice from a DataFrame.\n",
      "Try using .loc[row_indexer,col_indexer] = value instead\n",
      "\n",
      "See the caveats in the documentation: https://pandas.pydata.org/pandas-docs/stable/user_guide/indexing.html#returning-a-view-versus-a-copy\n",
      "  self.obj[key] = _infer_fill_value(value)\n",
      "c:\\users\\achilles\\appdata\\local\\programs\\python\\python38-32\\lib\\site-packages\\pandas\\core\\indexing.py:965: SettingWithCopyWarning: \n",
      "A value is trying to be set on a copy of a slice from a DataFrame.\n",
      "Try using .loc[row_indexer,col_indexer] = value instead\n",
      "\n",
      "See the caveats in the documentation: https://pandas.pydata.org/pandas-docs/stable/user_guide/indexing.html#returning-a-view-versus-a-copy\n",
      "  self.obj[item] = s\n"
     ]
    }
   ],
   "source": [
    "from vaderSentiment.vaderSentiment import SentimentIntensityAnalyzer\n",
    "import operator\n",
    "from nltk.corpus import stopwords\n",
    "\n",
    "stop = stopwords.words('english')\n",
    "sid = SentimentIntensityAnalyzer()\n",
    "\n",
    "def get_sentiment_with_max_score(text):\n",
    "  score = sid.polarity_scores(text)\n",
    "  score.pop('compound')\n",
    "  return max(score.items(), key=operator.itemgetter(1))[0]\n",
    "\n",
    "def avg_word(sentence):\n",
    "    words = sentence.split()\n",
    "    if len(words)>0:\n",
    "        return (sum(len(word) for word in words)/len(words))\n",
    "    else:\n",
    "        return 0\n",
    "\n",
    "data.loc[:, 'polarity'] = data['message_body'].map(lambda text: get_sentiment_with_max_score(text))\n",
    "data.loc[:, 'len'] = data['message_body'].astype(str).apply(len)\n",
    "data.loc[:, 'word_count'] = data['message_body'].apply(lambda x: len(str(x).split()))\n",
    "data.loc[:, 'avg_word'] = data['message_body'].apply(lambda x: avg_word(x))\n",
    "data.loc[:, 'stopwords'] = data['message_body'].apply(lambda x: len([x for x in x.split() if x in stop]))\n",
    "data.loc[:, 'number_cnt'] = data['message_body'].apply(lambda x: len([x for x in x.split() if x.isdigit()]))\n",
    "data.loc[:, 'contains_numbers'] = data['message_body'].apply(lambda x: 1 if x.isdigit() else 0)\n",
    "data.loc[:, 'contains_upper'] = data['message_body'].apply(lambda x: 1 if x.isupper() else 0)\n",
    "data.loc[:, 'upper_cnt'] = data['message_body'].apply(lambda x: len([x for x in x.split() if x.isupper()]))"
   ]
  },
  {
   "cell_type": "code",
   "execution_count": 31,
   "metadata": {},
   "outputs": [
    {
     "data": {
      "image/png": "[encoded data removed]",
      "text/plain": [
       "<Figure size 1440x216 with 4 Axes>"
      ]
     },
     "metadata": {
      "needs_background": "light"
     },
     "output_type": "display_data"
    }
   ],
   "source": [
    "fig, axes = plt.subplots(figsize=(20,3), nrows=1, ncols=4)\n",
    "data.polarity.hist(bins=3, ax=axes[0], figsize=(20,3))\n",
    "data.includes_url.hist(bins=2,  ax=axes[1], figsize=(20,3))\n",
    "data.len.hist(ax=axes[2], figsize=(20,3))\n",
    "data.word_count.hist(ax=axes[3], figsize=(20,3))\n",
    "axes[0].title.set_text('Polarity')\n",
    "axes[1].title.set_text('URL Flag')\n",
    "axes[2].title.set_text('Character Length')\n",
    "axes[3].title.set_text('Word Count')\n",
    "plt.show()"
   ]
  },
  {
   "cell_type": "markdown",
   "metadata": {},
   "source": [
    "Size of our word corpus in this dataset"
   ]
  },
  {
   "cell_type": "code",
   "execution_count": 34,
   "metadata": {},
   "outputs": [
    {
     "data": {
      "text/plain": [
       "23295"
      ]
     },
     "execution_count": 34,
     "metadata": {},
     "output_type": "execute_result"
    }
   ],
   "source": [
    "len(set(' '.join(data['message_body']).split()))"
   ]
  },
  {
   "cell_type": "markdown",
   "metadata": {},
   "source": [
    "Pre-stop word extraction"
   ]
  },
  {
   "cell_type": "code",
   "execution_count": 35,
   "metadata": {
    "scrolled": true
   },
   "outputs": [
    {
     "data": {
      "text/plain": [
       "I      7879\n",
       "to     6906\n",
       "the    6742\n",
       "my     5500\n",
       "a      4193\n",
       "and    4123\n",
       "it     3195\n",
       "on     3015\n",
       "for    2865\n",
       "is     2772\n",
       "dtype: int64"
      ]
     },
     "execution_count": 35,
     "metadata": {},
     "output_type": "execute_result"
    }
   ],
   "source": [
    "freq_words = pd.Series(' '.join(data['message_body']).split()).value_counts()[:10]\n",
    "freq_words"
   ]
  },
  {
   "cell_type": "code",
   "execution_count": 36,
   "metadata": {},
   "outputs": [
    {
     "data": {
      "text/plain": [
       "<matplotlib.axes._subplots.AxesSubplot at 0x1e72bad8>"
      ]
     },
     "execution_count": 36,
     "metadata": {},
     "output_type": "execute_result"
    },
    {
     "data": {
      "image/png": "[encoded data removed]",
      "text/plain": [
       "<Figure size 432x288 with 1 Axes>"
      ]
     },
     "metadata": {
      "needs_background": "light"
     },
     "output_type": "display_data"
    }
   ],
   "source": [
    "pd.Series(' '.join(data['message_body']).split()).value_counts()[:20].plot.bar()"
   ]
  },
  {
   "cell_type": "markdown",
   "metadata": {},
   "source": [
    "Post stop-word extraction"
   ]
  },
  {
   "cell_type": "code",
   "execution_count": 37,
   "metadata": {},
   "outputs": [
    {
     "data": {
      "text/plain": [
       "<matplotlib.axes._subplots.AxesSubplot at 0x2030bdd8>"
      ]
     },
     "execution_count": 37,
     "metadata": {},
     "output_type": "execute_result"
    },
    {
     "data": {
      "image/png": "[encoded data removed]",
      "text/plain": [
       "<Figure size 432x288 with 1 Axes>"
      ]
     },
     "metadata": {
      "needs_background": "light"
     },
     "output_type": "display_data"
    }
   ],
   "source": [
    "import nltk\n",
    "# nltk.download(\"stopwords\")\n",
    "\n",
    "stop_words = stopwords.words('english')\n",
    "pd.Series([x for x in ' '.join(data['message_body']).split() if x not in stop_words]).value_counts()[:20].plot.bar()"
   ]
  },
  {
   "cell_type": "markdown",
   "metadata": {},
   "source": [
    "Seems that people like a lot to tweet about themselves right?"
   ]
  },
  {
   "cell_type": "code",
   "execution_count": 38,
   "metadata": {},
   "outputs": [
    {
     "data": {
      "text/plain": [
       "ins           1\n",
       "Quarry        1\n",
       "shadows,      1\n",
       "Blancmange    1\n",
       "reggaeton     1\n",
       "👏🏻👏🏻👏🏻👏🏻      1\n",
       "Hej!          1\n",
       "Ass           1\n",
       "12-15         1\n",
       "maiden        1\n",
       "dtype: int64"
      ]
     },
     "execution_count": 38,
     "metadata": {},
     "output_type": "execute_result"
    }
   ],
   "source": [
    "rare_words = pd.Series(' '.join(data['message_body']).split()).value_counts()[-10:]\n",
    "rare_words"
   ]
  },
  {
   "cell_type": "markdown",
   "metadata": {},
   "source": [
    "Unsurprisingly some broken words and strings here. May consider to strip special characters."
   ]
  },
  {
   "cell_type": "code",
   "execution_count": 39,
   "metadata": {},
   "outputs": [],
   "source": [
    "# freq = list(freq_words.index)\n",
    "# rare = list(rare_words.index)\n",
    "# w = freq + rare\n",
    "# data[:, 'message_body'] = data['message_body'].apply(lambda x: \" \".join(x for x in x.split() if x not in w))"
   ]
  },
  {
   "cell_type": "markdown",
   "metadata": {},
   "source": [
    "Spelling correction"
   ]
  },
  {
   "cell_type": "code",
   "execution_count": 40,
   "metadata": {},
   "outputs": [],
   "source": [
    "# from textblob import TextBlob\n",
    "# data.loc[:, 'message_body'] = data['message_body'].apply(lambda x: str(TextBlob(x).correct()))"
   ]
  },
  {
   "cell_type": "markdown",
   "metadata": {},
   "source": [
    "### Things to try next"
   ]
  },
  {
   "cell_type": "code",
   "execution_count": 41,
   "metadata": {},
   "outputs": [],
   "source": [
    "## Data Cleaning\n",
    "# lowercase\n",
    "# remove punctuation\n",
    "# remove stopwords\n",
    "# words = [word for word in tokens if word.isalpha()] # remove any non alphabetic tokens\n",
    "\n",
    "## Feature Engineering\n",
    "# sentences = sent_tokenize(text)\n",
    "# tokens = word_tokenize(text)\n",
    "# lemmatize\n",
    "# n-grams\n",
    "# term frequency\n",
    "# inverse doc frequency\n",
    "# tf - inv doc freq\n",
    "# bow\n",
    "# embeddings\n",
    "# part of speech"
   ]
  },
  {
   "cell_type": "markdown",
   "metadata": {},
   "source": [
    "### EDA on text features"
   ]
  },
  {
   "cell_type": "code",
   "execution_count": 42,
   "metadata": {},
   "outputs": [],
   "source": [
    "# get mean word count and polarity by categories"
   ]
  },
  {
   "cell_type": "markdown",
   "metadata": {},
   "source": [
    "### Export data"
   ]
  },
  {
   "cell_type": "code",
   "execution_count": 48,
   "metadata": {},
   "outputs": [],
   "source": [
    "data = data.dropna(subset=['message_body'])\n",
    "data.to_csv('modelling_data.csv', index=False)"
   ]
  }
 ],
 "metadata": {
  "kernelspec": {
   "display_name": "Python 3",
   "language": "python",
   "name": "python3"
  },
  "language_info": {
   "codemirror_mode": {
    "name": "ipython",
    "version": 3
   },
   "file_extension": ".py",
   "mimetype": "text/x-python",
   "name": "python",
   "nbconvert_exporter": "python",
   "pygments_lexer": "ipython3",
   "version": "3.8.2"
  }
 },
 "nbformat": 4,
 "nbformat_minor": 2
}
