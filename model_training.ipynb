{
 "cells": [
  {
   "cell_type": "code",
   "execution_count": 1,
   "metadata": {},
   "outputs": [
    {
     "data": {
      "text/html": [
       "<div>\n",
       "<style scoped>\n",
       "    .dataframe tbody tr th:only-of-type {\n",
       "        vertical-align: middle;\n",
       "    }\n",
       "\n",
       "    .dataframe tbody tr th {\n",
       "        vertical-align: top;\n",
       "    }\n",
       "\n",
       "    .dataframe thead th {\n",
       "        text-align: right;\n",
       "    }\n",
       "</style>\n",
       "<table border=\"1\" class=\"dataframe\">\n",
       "  <thead>\n",
       "    <tr style=\"text-align: right;\">\n",
       "      <th></th>\n",
       "      <th>message_type</th>\n",
       "      <th>author_id</th>\n",
       "      <th>author_type</th>\n",
       "      <th>severity</th>\n",
       "      <th>message_body</th>\n",
       "      <th>created_at</th>\n",
       "      <th>dow</th>\n",
       "      <th>month</th>\n",
       "      <th>hour</th>\n",
       "      <th>doy</th>\n",
       "      <th>...</th>\n",
       "      <th>includes_url</th>\n",
       "      <th>polarity</th>\n",
       "      <th>len</th>\n",
       "      <th>word_count</th>\n",
       "      <th>avg_word</th>\n",
       "      <th>stopwords</th>\n",
       "      <th>number_cnt</th>\n",
       "      <th>contains_numbers</th>\n",
       "      <th>contains_upper</th>\n",
       "      <th>upper_cnt</th>\n",
       "    </tr>\n",
       "  </thead>\n",
       "  <tbody>\n",
       "    <tr>\n",
       "      <th>0</th>\n",
       "      <td>ticket</td>\n",
       "      <td>354084</td>\n",
       "      <td>NaN</td>\n",
       "      <td>urgent</td>\n",
       "      <td>haha. I love the link to the track. Thanks!</td>\n",
       "      <td>2017-11-14 13:53:58+00:00</td>\n",
       "      <td>Tuesday</td>\n",
       "      <td>November</td>\n",
       "      <td>13</td>\n",
       "      <td>318</td>\n",
       "      <td>...</td>\n",
       "      <td>0</td>\n",
       "      <td>pos</td>\n",
       "      <td>44</td>\n",
       "      <td>9</td>\n",
       "      <td>3.888889</td>\n",
       "      <td>3</td>\n",
       "      <td>0</td>\n",
       "      <td>0</td>\n",
       "      <td>0</td>\n",
       "      <td>1</td>\n",
       "    </tr>\n",
       "    <tr>\n",
       "      <th>1</th>\n",
       "      <td>chat</td>\n",
       "      <td>266588</td>\n",
       "      <td>lead</td>\n",
       "      <td>urgent</td>\n",
       "      <td>Can you follow me?</td>\n",
       "      <td>2017-11-22 14:17:11+00:00</td>\n",
       "      <td>Wednesday</td>\n",
       "      <td>November</td>\n",
       "      <td>14</td>\n",
       "      <td>326</td>\n",
       "      <td>...</td>\n",
       "      <td>0</td>\n",
       "      <td>neu</td>\n",
       "      <td>19</td>\n",
       "      <td>4</td>\n",
       "      <td>3.750000</td>\n",
       "      <td>1</td>\n",
       "      <td>0</td>\n",
       "      <td>0</td>\n",
       "      <td>0</td>\n",
       "      <td>0</td>\n",
       "    </tr>\n",
       "  </tbody>\n",
       "</table>\n",
       "<p>2 rows × 24 columns</p>\n",
       "</div>"
      ],
      "text/plain": [
       "  message_type author_id author_type severity  \\\n",
       "0       ticket    354084         NaN   urgent   \n",
       "1         chat    266588        lead   urgent   \n",
       "\n",
       "                                   message_body                 created_at  \\\n",
       "0   haha. I love the link to the track. Thanks!  2017-11-14 13:53:58+00:00   \n",
       "1                            Can you follow me?  2017-11-22 14:17:11+00:00   \n",
       "\n",
       "         dow     month  hour  doy  ... includes_url polarity len word_count  \\\n",
       "0    Tuesday  November    13  318  ...            0      pos  44          9   \n",
       "1  Wednesday  November    14  326  ...            0      neu  19          4   \n",
       "\n",
       "   avg_word stopwords  number_cnt  contains_numbers  contains_upper  upper_cnt  \n",
       "0  3.888889         3           0                 0               0          1  \n",
       "1  3.750000         1           0                 0               0          0  \n",
       "\n",
       "[2 rows x 24 columns]"
      ]
     },
     "execution_count": 1,
     "metadata": {},
     "output_type": "execute_result"
    }
   ],
   "source": [
    "import pandas as pd\n",
    "data = pd.read_csv('modelling_data.csv')\n",
    "data = data.dropna(subset=['message_body'])\n",
    "data.head(2) "
   ]
  },
  {
   "attachments": {
    "image.png": {
     "image/png": "[encoded data removed]"
    }
   },
   "cell_type": "markdown",
   "metadata": {},
   "source": [
    "**Model Selection**\n",
    "\n",
    "Choosing to go with **k-means** here being one of the easiest algos to implement for such a problem. Easy to attempt clustering with a lot of different number of clusters and use an elbow approach to optimise. \n",
    "\n",
    "\n",
    "**Feature Extraction**\n",
    "\n",
    "It can be noted that k-means (and minibatch k-means) are very sensitive to feature scaling and that in this case the IDF weighting helps improve the quality of the clustering by quite a lot. This is the main reasoning behind the choise of TFIDVect over HashVect (though the latter could also be used with an L2 norm scaling). Additionally testing the use of latent semantic analysis (LSA -> SVD component) for dimensionality reduction.\n",
    "\n",
    "**Evaluation Metric**\n",
    "\n",
    "3 potential metrics to use where ground truth labels are not known in clustering. a) Devies-Bouldin Index b) Silhouette Coefficient and c) Calinski-Harabasz Index.\n",
    "\n",
    "Chose to go with Silhouette Coefficient here as it's a lot more intuitive to use and to conceptually understand.\n",
    "\n",
    "A simple intuitive explanation is:\n",
    "\n",
    "    -1 <= coef < 0 then point would have been better off assigned to a different cluster, closer to -1 worse off it is\n",
    "    coef = 0 right at the inflection point between clusters\n",
    "    0 < coef <= 1 well-assigned, closer to 1 higher confidence\n",
    "\n",
    "Actual definition: The Silhouette Coefficient is defined for each sample and is composed of two scores\n",
    "\n",
    "**a**: The mean distance between a sample and all other points in the same class.\n",
    "\n",
    "**b**: The mean distance between a sample and all other points in the next nearest cluster.\n",
    "\n",
    "The Silhouette Coefficient s for a single sample is then given as:\n",
    "\n",
    "![image.png](attachment:image.png)\n",
    " \n",
    "The Silhouette Coefficient for a set of samples is given as the mean of the Silhouette Coefficient for each sample."
   ]
  },
  {
   "cell_type": "markdown",
   "metadata": {},
   "source": [
    "Below I wanted to generate both text based features, but also leverage all the info in the other features we had in the initial dataset, so I attempted to combined the 2 sparse matrices generated from vectrorizing each feature set, but unfortunately I was running out of memory locally. This would have been a nice addition if more compute resources were available!"
   ]
  },
  {
   "cell_type": "code",
   "execution_count": 2,
   "metadata": {},
   "outputs": [
    {
     "name": "stdout",
     "output_type": "stream",
     "text": [
      "Explained variance with 100 components = 21.87%\n",
      "n_samples: 14875, n_features: 100\n",
      "Explained variance with 500 components = 52.20%\n",
      "n_samples: 14875, n_features: 500\n",
      "Explained variance with 1000 components = 69.82%\n",
      "n_samples: 14875, n_features: 1000\n"
     ]
    }
   ],
   "source": [
    "from sklearn.feature_extraction.text import TfidfVectorizer\n",
    "from sklearn.preprocessing import Normalizer\n",
    "from sklearn.decomposition import TruncatedSVD\n",
    "from sklearn.pipeline import make_pipeline\n",
    "from sklearn.feature_extraction.text import TfidfTransformer\n",
    "\n",
    "vectorizer = TfidfVectorizer(sublinear_tf=True, max_df=0.95, min_df=2, stop_words='english')\n",
    "vectorizer_pipeline = make_pipeline(vectorizer, TfidfTransformer())\n",
    "X = vectorizer_pipeline.fit_transform(data['message_body'].values)\n",
    "\n",
    "lsa_n_components = [100, 500, 1000]\n",
    "\n",
    "for n_components in lsa_n_components:\n",
    "    svd = TruncatedSVD(n_components)\n",
    "    normalizer = Normalizer(copy=False)\n",
    "    lsa = make_pipeline(svd, normalizer)\n",
    "    X_train = lsa.fit_transform(X)\n",
    "    print('Explained variance with %i components = %.2f%%' % (n_components, 100*svd.explained_variance_ratio_.sum()))\n",
    "    print(\"n_samples: %d, n_features: %d\" % X_train.shape)"
   ]
  },
  {
   "cell_type": "markdown",
   "metadata": {},
   "source": [
    "Let's go with 1000 components or we may try dropping dimensionality reduction all together."
   ]
  },
  {
   "cell_type": "markdown",
   "metadata": {},
   "source": [
    "Skip this step as not enough memory locally to run."
   ]
  },
  {
   "cell_type": "code",
   "execution_count": 3,
   "metadata": {},
   "outputs": [],
   "source": [
    "# from sklearn.preprocessing import OneHotEncoder\n",
    "# Other columns feature extractions\n",
    "# print(\"*\"*50)\n",
    "# print(\"Extracting other features from the training dataset using a sparse vectorizer\")\n",
    "# enc = OneHotEncoder()\n",
    "# X2 = enc.fit_transform(data.drop(['message_body', 'created_at', 'author_id', 'url', 'avg_word', 'len', 'doy', \n",
    "#                                   'upper_cnt', 'handle', 'stopwords', 'word_count'], axis=1).fillna('0'))\n",
    "# print(\"done in %fs\" % (time() - t0))\n",
    "\n",
    "# from scipy.sparse import hstack\n",
    "# print('Combining sparse matrices...')\n",
    "# X = hstack([X, X2]).toarray()\n",
    "# print(\"done in %fs\" % (time() - t0))\n",
    "# print(\"n_samples: %d, n_features: %d\" % X.shape)"
   ]
  },
  {
   "cell_type": "markdown",
   "metadata": {},
   "source": [
    "### Model Tuning"
   ]
  },
  {
   "cell_type": "code",
   "execution_count": 10,
   "metadata": {
    "scrolled": true
   },
   "outputs": [
    {
     "name": "stdout",
     "output_type": "stream",
     "text": [
      "**************************************************\n",
      "Run 0 with params min_df: 0.00 max_df: 0.25 ngrams: 3 n_clusters: 2\n",
      "Extracting text features from the training dataset using a sparse vectorizer\n",
      "n_samples: 14875, n_features: 1454\n",
      "-- Silhouette Coefficient: 0.022\n",
      "Top terms per cluster:\n",
      "> Cluster 0: thanks thank spotify app songs dm just song music playlist album sent like iphone play version guys did yes work\n",
      "\n",
      "> Cluster 1: account help premium family email student spotify charged need subscription hi need help payment facebook card premium account log password free plan\n",
      "\n",
      "**************************************************\n",
      "Run 1 with params min_df: 0.00 max_df: 0.25 ngrams: 3 n_clusters: 3\n",
      "Extracting text features from the training dataset using a sparse vectorizer\n",
      "n_samples: 14875, n_features: 1454\n",
      "-- Silhouette Coefficient: 0.017\n",
      "Top terms per cluster:\n",
      "> Cluster 0: thank thanks songs dm spotify song just music app playlist sent album like guys play did yes work ve don\n",
      "\n",
      "> Cluster 1: version iphone ios android 11 spotify ios 11 app latest spotify version 10 update 22 windows using windows 10 updated running version spotify latest version\n",
      "\n",
      "> Cluster 2: account help premium family email student charged need spotify subscription hi need help card facebook premium account payment log password plan free\n",
      "\n",
      "**************************************************\n",
      "Run 2 with params min_df: 0.00 max_df: 0.25 ngrams: 3 n_clusters: 4\n",
      "Extracting text features from the training dataset using a sparse vectorizer\n",
      "n_samples: 14875, n_features: 1454\n",
      "-- Silhouette Coefficient: 0.023\n",
      "Top terms per cluster:\n",
      "> Cluster 0: thank working did good love reply works sure guys ll getting help fine sent fixed problem try spotify work hey\n",
      "\n",
      "> Cluster 1: spotify help account thanks premium just app dm songs hi music song like ve need don hey sent guys playlist\n",
      "\n",
      "> Cluster 2: thanks dm try spotify know update got time want sure help fast favorite features fb fb account feature yo feedback feel\n",
      "\n",
      "> Cluster 3: yes thanks did tried thank songs does app album version reinstalled great ve playlist sure username helped right ve tried cover\n",
      "\n",
      "**************************************************\n",
      "Run 3 with params min_df: 0.00 max_df: 0.25 ngrams: 3 n_clusters: 5\n",
      "Extracting text features from the training dataset using a sparse vectorizer\n",
      "n_samples: 14875, n_features: 1454\n",
      "-- Silhouette Coefficient: 0.017\n",
      "Top terms per cluster:\n",
      "> Cluster 0: thank thanks spotify app songs dm song music just sent playlist album like version guys iphone did play yes don\n",
      "\n",
      "> Cluster 1: work web works player web player didn work didn fine does work works fine does app spotify web browser web app tried chrome desktop phone spotify\n",
      "\n",
      "> Cluster 2: ve tried doesn ve tried doesn work work just app times spotify reinstalling spotify doesn issue play help phone song ve just doesn help problem\n",
      "\n",
      "> Cluster 3: account help premium family email student spotify charged need need help subscription hi premium account facebook payment card log plan free 99\n",
      "\n",
      "> Cluster 4: ll ok ll try try ok thanks thanks ok thank thank let know let hope sure know dm just check later ya update time\n",
      "\n",
      "**************************************************\n",
      "Run 4 with params min_df: 0.00 max_df: 0.50 ngrams: 3 n_clusters: 2\n",
      "Extracting text features from the training dataset using a sparse vectorizer\n",
      "n_samples: 14875, n_features: 1454\n",
      "-- Silhouette Coefficient: 0.029\n",
      "Top terms per cluster:\n",
      "> Cluster 0: thank spotify help account thanks premium just app dm songs hi music song ve like need don guys hey sent\n",
      "\n",
      "> Cluster 1: thanks dm try spotify know update got time want sure help fast favorite features fb fb account feature yo feedback feel\n",
      "\n",
      "**************************************************\n",
      "Run 5 with params min_df: 0.00 max_df: 0.50 ngrams: 3 n_clusters: 3\n",
      "Extracting text features from the training dataset using a sparse vectorizer\n",
      "n_samples: 14875, n_features: 1454\n",
      "-- Silhouette Coefficient: 0.019\n",
      "Top terms per cluster:\n",
      "> Cluster 0: family plan family plan family account premium family family premium invite premium account spotify family add add family members join help wife member family members address accounts\n",
      "\n",
      "> Cluster 1: cares premium family account regarding lyrics isn working hope premium family family account im good day isn working family thanks premium help account spotify features\n",
      "\n",
      "> Cluster 2: thanks thank spotify help account just app dm premium songs music song hi ve like don guys need playlist sent\n",
      "\n",
      "**************************************************\n",
      "Run 6 with params min_df: 0.00 max_df: 0.50 ngrams: 3 n_clusters: 4\n",
      "Extracting text features from the training dataset using a sparse vectorizer\n",
      "n_samples: 14875, n_features: 1454\n",
      "-- Silhouette Coefficient: 0.023\n",
      "Top terms per cluster:\n",
      "> Cluster 0: thank thanks working did good love yes guys sure works spotify reply help ll getting fine fixed work problem try\n",
      "\n",
      "> Cluster 1: dm sent sent dm dm sent check just sent check dm thanks just sent dm hi reply answer just thank message guys help ed look ve sent\n",
      "\n",
      "> Cluster 2: spotify thanks app songs song just music playlist album like iphone play version work thank don guys did phone yes\n",
      "\n",
      "> Cluster 3: account help premium family email student charged need spotify subscription hi card facebook premium account payment need help log plan password trying\n",
      "\n",
      "**************************************************\n",
      "Run 7 with params min_df: 0.00 max_df: 0.50 ngrams: 3 n_clusters: 5\n",
      "Extracting text features from the training dataset using a sparse vectorizer\n",
      "n_samples: 14875, n_features: 1454\n",
      "-- Silhouette Coefficient: 0.038\n",
      "Top terms per cluster:\n",
      "> Cluster 0: thanks spotify app songs song just music playlist album like iphone play version thank work guys don yes did phone\n",
      "\n",
      "> Cluster 1: account help premium family email student spotify charged need subscription hi facebook card premium account payment need help log plan password trying\n",
      "\n",
      "> Cluster 2: thank working did good love reply works yes sure guys ll getting fine help fixed problem try spotify work hey\n",
      "\n",
      "> Cluster 3: thanks spotify got time want sure help figured feature far fast favorite fb fb account finally filter files figure features feedback\n",
      "\n",
      "> Cluster 4: dm sent sent dm dm sent check just sent check dm thanks just sent dm hi reply answer just thank message guys help ed look ve sent\n",
      "\n",
      "**************************************************\n",
      "Run 8 with params min_df: 0.00 max_df: 0.75 ngrams: 3 n_clusters: 2\n",
      "Extracting text features from the training dataset using a sparse vectorizer\n",
      "n_samples: 14875, n_features: 1454\n",
      "-- Silhouette Coefficient: 0.028\n",
      "Top terms per cluster:\n",
      "> Cluster 0: thank spotify help account thanks premium just app dm songs hi music song ve like need don guys hey sent\n",
      "\n",
      "> Cluster 1: thanks dm try spotify know update got time want sure help fast favorite features fb fb account feature yo feedback feel\n",
      "\n",
      "**************************************************\n",
      "Run 9 with params min_df: 0.00 max_df: 0.75 ngrams: 3 n_clusters: 3\n",
      "Extracting text features from the training dataset using a sparse vectorizer\n",
      "n_samples: 14875, n_features: 1454\n",
      "-- Silhouette Coefficient: 0.026\n",
      "Top terms per cluster:\n",
      "> Cluster 0: thanks spotify app songs song just music playlist album like iphone play version thank work don did yes guys phone\n",
      "\n",
      "> Cluster 1: thank working did good love reply works yes sure guys ll getting help fine sent fixed problem try spotify work\n",
      "\n",
      "> Cluster 2: account help dm premium sent family email student charged need hi spotify subscription need help payment premium account facebook card plan log\n",
      "\n",
      "**************************************************\n",
      "Run 10 with params min_df: 0.00 max_df: 0.75 ngrams: 3 n_clusters: 4\n",
      "Extracting text features from the training dataset using a sparse vectorizer\n",
      "n_samples: 14875, n_features: 1454\n",
      "-- Silhouette Coefficient: 0.016\n",
      "Top terms per cluster:\n",
      "> Cluster 0: dm sent sent dm dm sent just sent thanks just sent dm hi reply answer just thank help message look ve sent need help guys ve send\n",
      "\n",
      "> Cluster 1: thanks thank spotify help account premium just app songs music song hi like ve don need playlist hey guys family\n",
      "\n",
      "> Cluster 2: check check dm dm dms sent ll thank thanks ya ur guys message pls reply hey need help sorted hi need help\n",
      "\n",
      "> Cluster 3: preview touch preview touch feature bring hold ios app ios away vote happened app song wish terrible amazing second supposed doesnt suggestions\n",
      "\n",
      "**************************************************\n",
      "Run 11 with params min_df: 0.00 max_df: 0.75 ngrams: 3 n_clusters: 5\n",
      "Extracting text features from the training dataset using a sparse vectorizer\n"
     ]
    },
    {
     "name": "stdout",
     "output_type": "stream",
     "text": [
      "n_samples: 14875, n_features: 1454\n",
      "-- Silhouette Coefficient: 0.018\n",
      "Top terms per cluster:\n",
      "> Cluster 0: set account country offline united states united uk states offline mode change account family hulu account won trying hi usa storage login mode start\n",
      "\n",
      "> Cluster 1: thank working did good love reply works yes sure guys ll getting help fine sent fixed problem try spotify work\n",
      "\n",
      "> Cluster 2: thanks spotify account help premium just app dm songs hi music song like ve need don sent hey guys playlist\n",
      "\n",
      "> Cluster 3: help ve thanks account fi favorite fb fb account feature features feedback feel feels figured figure far file files filter finally\n",
      "\n",
      "> Cluster 4: page artist page artist blank login help trying family spotify artists just takes album account link error facebook premium time loading\n",
      "\n",
      "**************************************************\n",
      "Run 12 with params min_df: 0.01 max_df: 0.25 ngrams: 3 n_clusters: 2\n",
      "Extracting text features from the training dataset using a sparse vectorizer\n",
      "n_samples: 14875, n_features: 142\n",
      "-- Silhouette Coefficient: 0.066\n",
      "Top terms per cluster:\n",
      "> Cluster 0: thanks spotify account help just app premium songs music hi song ve like don version family hey playlist dm need\n",
      "\n",
      "> Cluster 1: thank ll ok good guys dm did working sent just love spotify really service hi got help music yes account\n",
      "\n",
      "**************************************************\n",
      "Run 13 with params min_df: 0.01 max_df: 0.25 ngrams: 3 n_clusters: 3\n",
      "Extracting text features from the training dataset using a sparse vectorizer\n",
      "n_samples: 14875, n_features: 142\n",
      "-- Silhouette Coefficient: 0.075\n",
      "Top terms per cluster:\n",
      "> Cluster 0: spotify thank account help just app premium songs music hi song like ve don version family dm hey playlist need\n",
      "\n",
      "> Cluster 1: good thank thanks know just work music songs spotify like day service got guys way sure playlist really love 10\n",
      "\n",
      "> Cluster 2: thanks help guys just dm spotify ve sent got problem update ll working issue hey account hi app email song\n",
      "\n",
      "**************************************************\n",
      "Run 14 with params min_df: 0.01 max_df: 0.25 ngrams: 3 n_clusters: 4\n",
      "Extracting text features from the training dataset using a sparse vectorizer\n",
      "n_samples: 14875, n_features: 142\n",
      "-- Silhouette Coefficient: 0.071\n",
      "Top terms per cluster:\n",
      "> Cluster 0: thanks spotify account help just app premium songs music hi song ve like don version family hey playlist dm need\n",
      "\n",
      "> Cluster 1: did just work thanks didn know yes thank guys spotify account app time playlist premium change today help update working\n",
      "\n",
      "> Cluster 2: thank dm ok good guys sent working love spotify just really hi service yes music account got help like sure\n",
      "\n",
      "> Cluster 3: ll try thank thanks just know sure let ok time music dm spotify update able like help working make works\n",
      "\n",
      "**************************************************\n",
      "Run 15 with params min_df: 0.01 max_df: 0.25 ngrams: 3 n_clusters: 5\n",
      "Extracting text features from the training dataset using a sparse vectorizer\n",
      "n_samples: 14875, n_features: 142\n",
      "-- Silhouette Coefficient: 0.079\n",
      "Top terms per cluster:\n",
      "> Cluster 0: thank ll ok dm good guys did sent working love just spotify hi really help service got music yes account\n",
      "\n",
      "> Cluster 1: version spotify android iphone ios 11 ios 11 latest app using 10 update updated windows phone just desktop issue device screen\n",
      "\n",
      "> Cluster 2: songs song playlist play playing album downloaded playlists like app listen spotify available artist just hey add phone way music\n",
      "\n",
      "> Cluster 3: thanks help guys just dm ve sent got spotify problem update ll working issue hey account hi app email really\n",
      "\n",
      "> Cluster 4: account help premium spotify just app music hi family ve dm like don student email need tried guys hey thanks\n",
      "\n",
      "**************************************************\n",
      "Run 16 with params min_df: 0.01 max_df: 0.50 ngrams: 3 n_clusters: 2\n",
      "Extracting text features from the training dataset using a sparse vectorizer\n",
      "n_samples: 14875, n_features: 142\n",
      "-- Silhouette Coefficient: 0.047\n",
      "Top terms per cluster:\n",
      "> Cluster 0: thanks spotify thank account help just app premium songs music hi song like ve don version dm family hey guys\n",
      "\n",
      "> Cluster 1: able web app play use spotify hey work ve desktop working music songs fix using just account phone login help\n",
      "\n",
      "**************************************************\n",
      "Run 17 with params min_df: 0.01 max_df: 0.50 ngrams: 3 n_clusters: 3\n",
      "Extracting text features from the training dataset using a sparse vectorizer\n",
      "n_samples: 14875, n_features: 142\n",
      "-- Silhouette Coefficient: 0.042\n",
      "Top terms per cluster:\n",
      "> Cluster 0: app songs song version playlist iphone android play ios spotify playing phone 11 music update ios 11 latest just using desktop\n",
      "\n",
      "> Cluster 1: thanks thank spotify just dm music guys like sent ve don know ll album work did working tried problem issue\n",
      "\n",
      "> Cluster 2: account help premium family student email charged need spotify subscription hi card facebook payment spotify premium plan premium account trying log free\n",
      "\n",
      "**************************************************\n",
      "Run 18 with params min_df: 0.01 max_df: 0.50 ngrams: 3 n_clusters: 4\n",
      "Extracting text features from the training dataset using a sparse vectorizer\n",
      "n_samples: 14875, n_features: 142\n",
      "-- Silhouette Coefficient: 0.073\n",
      "Top terms per cluster:\n",
      "> Cluster 0: spotify app songs just music song version like playlist play iphone album dm android ve don phone thanks work guys\n",
      "\n",
      "> Cluster 1: thank ll ok guys dm good did working sent just love spotify hi got really service help music yes account\n",
      "\n",
      "> Cluster 2: thanks help guys just dm ve sent spotify got problem update ll working issue hey app account email song hi\n",
      "\n",
      "> Cluster 3: account premium help family student email charged spotify subscription hi need plan premium account spotify premium card payment facebook got log address\n",
      "\n",
      "**************************************************\n",
      "Run 19 with params min_df: 0.01 max_df: 0.50 ngrams: 3 n_clusters: 5\n",
      "Extracting text features from the training dataset using a sparse vectorizer\n",
      "n_samples: 14875, n_features: 142\n",
      "-- Silhouette Coefficient: 0.087\n",
      "Top terms per cluster:\n",
      "> Cluster 0: account premium help family student email charged need spotify subscription hi card plan spotify premium premium account payment got facebook free address\n",
      "\n",
      "> Cluster 1: thank ll ok good guys did working love spotify just really service hi yes help music got like account sent\n",
      "\n",
      "> Cluster 2: thanks help guys just spotify ve got problem ll working issue hey update account email app song hi did getting\n",
      "\n",
      "> Cluster 3: spotify app songs music just song version like playlist play iphone album android don ve phone work time thanks guys\n",
      "\n",
      "> Cluster 4: dm sent thanks hi just help ve guys thank message need issues hey account need help issue ll problem having payment\n",
      "\n",
      "**************************************************\n",
      "Run 20 with params min_df: 0.01 max_df: 0.75 ngrams: 3 n_clusters: 2\n",
      "Extracting text features from the training dataset using a sparse vectorizer\n",
      "n_samples: 14875, n_features: 142\n",
      "-- Silhouette Coefficient: 0.047\n",
      "Top terms per cluster:\n",
      "> Cluster 0: thanks thank spotify app songs just music song version like playlist dm iphone play album android ve guys don phone\n",
      "\n",
      "> Cluster 1: account help premium family student email charged spotify subscription hi need card payment spotify premium facebook premium account plan trying 99 got\n",
      "\n",
      "**************************************************\n",
      "Run 21 with params min_df: 0.01 max_df: 0.75 ngrams: 3 n_clusters: 3\n",
      "Extracting text features from the training dataset using a sparse vectorizer\n",
      "n_samples: 14875, n_features: 142\n",
      "-- Silhouette Coefficient: 0.044\n",
      "Top terms per cluster:\n",
      "> Cluster 0: artists songs albums new play hey song playlists ve like playlist spotify way page listen music work just app fix\n",
      "\n",
      "> Cluster 1: thanks spotify thank help account just app premium music songs song hi like ve version don dm family hey guys\n",
      "\n",
      "> Cluster 2: got playlists account songs premium just charged ve email new spotify hi help thanks way like family hey playlist add\n",
      "\n",
      "**************************************************\n",
      "Run 22 with params min_df: 0.01 max_df: 0.75 ngrams: 3 n_clusters: 4\n",
      "Extracting text features from the training dataset using a sparse vectorizer\n"
     ]
    },
    {
     "name": "stdout",
     "output_type": "stream",
     "text": [
      "n_samples: 14875, n_features: 142\n",
      "-- Silhouette Coefficient: 0.050\n",
      "Top terms per cluster:\n",
      "> Cluster 0: thanks thank just songs music dm like spotify app guys ve playlist don album sent work did know time ll\n",
      "\n",
      "> Cluster 1: account help premium family student email charged need spotify subscription hi facebook plan card premium account spotify premium payment free log got\n",
      "\n",
      "> Cluster 2: version spotify iphone android ios app 11 ios 11 latest update using 10 windows updated phone just screen issue music desktop\n",
      "\n",
      "> Cluster 3: song play songs playlist album playing available doesn music artist just spotify app won phone error like hey listen happens\n",
      "\n",
      "**************************************************\n",
      "Run 23 with params min_df: 0.01 max_df: 0.75 ngrams: 3 n_clusters: 5\n",
      "Extracting text features from the training dataset using a sparse vectorizer\n",
      "n_samples: 14875, n_features: 142\n",
      "-- Silhouette Coefficient: 0.072\n",
      "Top terms per cluster:\n",
      "> Cluster 0: account help premium family student email charged spotify subscription hi need card plan premium account spotify premium facebook payment got trying log\n",
      "\n",
      "> Cluster 1: thanks help guys just spotify ve got problem dm working hey update issue account email app song hi did getting\n",
      "\n",
      "> Cluster 2: available song album spotify isn songs says make play hi app listen hey service new message music just playlists amp\n",
      "\n",
      "> Cluster 3: thank spotify app songs just music song version like playlist dm iphone android play ve album phone thanks guys work\n",
      "\n",
      "> Cluster 4: know let don just want spotify thanks ll like music account need guys did good ve didn try really email\n",
      "\n",
      "done in 2.471s\n"
     ]
    }
   ],
   "source": [
    "from sklearn.feature_extraction.text import HashingVectorizer\n",
    "from time import time\n",
    "from sklearn.preprocessing import Normalizer\n",
    "from sklearn import metrics\n",
    "from sklearn.cluster import KMeans, MiniBatchKMeans\n",
    "from sklearn.decomposition import TruncatedSVD, LatentDirichletAllocation, NMF\n",
    "import itertools\n",
    "\n",
    "min_df = [0.001, 0.01] # [0.01, 0.05, 0.10, 0.15]\n",
    "max_df = [0.25, 0.5, 0.75] # [0.5, 0.75, 0.95, 0.99]\n",
    "ngram_range = (1, 3) # (1, 3)\n",
    "n_clusters = [2, 3, 4, 5] #[2, 3, 5, 10, 20, 30, 50]\n",
    "\n",
    "sse = []\n",
    "silhouette_avg = []\n",
    "params = {}\n",
    "run_top_terms = {}\n",
    "\n",
    "i=0\n",
    "for k in range(len(min_df)):\n",
    "    for j in range(len(max_df)):\n",
    "        for n in n_clusters:\n",
    "            params[i] = {'min_df': min_df[k], 'max_df': max_df[j], 'ngrams': ngram_range, 'clusters': n}\n",
    "            t0 = time()\n",
    "            print(\"*\"*50)\n",
    "            print('Run %i with params min_df: %.2f max_df: %.2f ngrams: %i n_clusters: %i' %\n",
    "                 (i, min_df[k], max_df[j], ngram_range[1], n))\n",
    "            print(\"Extracting text features from the training dataset using a sparse vectorizer\")\n",
    "            # vectorizer = HashingVectorizer(n_features=10000, stop_words='english', alternate_sign=False, norm='l2')\n",
    "            vectorizer = TfidfVectorizer(sublinear_tf=True, max_df=max_df[j], min_df=min_df[k], stop_words='english',\n",
    "                                         ngram_range=ngram_range)\n",
    "            vectorizer_pipeline = make_pipeline(vectorizer, TfidfTransformer())\n",
    "            X = vectorizer_pipeline.fit_transform(data['message_body'].values)\n",
    "#                 svd = TruncatedSVD(1000) # if LSA active\n",
    "#                 X = svd.fit_transform(X)\n",
    "            normalizer = Normalizer(copy=False)\n",
    "            normalizer.fit_transform(X)\n",
    "            print(\"n_samples: %d, n_features: %d\" % X.shape)\n",
    "#                 km = MiniBatchKMeans(n_clusters=n, init='k-means++', n_init=1, init_size=1000, batch_size=1000, \n",
    "#                                      verbose=False)\n",
    "            model = KMeans(n_clusters=n, init='k-means++', max_iter=100, n_init=1, verbose=False)\n",
    "            model.fit(X)\n",
    "            sse.append(model.inertia_)\n",
    "            silhouette_avg.append(metrics.silhouette_score(X, model.labels_, sample_size=1000))\n",
    "            print(\"-- Silhouette Coefficient: %0.3f\" % metrics.silhouette_score(X, model.labels_, sample_size=1000))\n",
    "#                 original_space_centroids = svd.inverse_transform(km.cluster_centers_) # if LSA\n",
    "#                 order_centroids = original_space_centroids.argsort()[:, ::-1] # if LSA\n",
    "            order_centroids = model.cluster_centers_.argsort()[:, ::-1]\n",
    "            print(\"Top terms per cluster:\")\n",
    "            terms = vectorizer.get_feature_names()\n",
    "            cluster_top_terms = {}\n",
    "            for cluster_number in range(n):\n",
    "                cluster_top_terms_list = []\n",
    "                print(\"> Cluster %d:\" % cluster_number, end='')\n",
    "                for ind in order_centroids[cluster_number, :20]:\n",
    "                    print(' %s' % terms[ind], end='')\n",
    "                    cluster_top_terms_list.append(terms[ind])\n",
    "                print('\\n')\n",
    "                cluster_top_terms[cluster_number] = cluster_top_terms_list\n",
    "            run_top_terms[i] = cluster_top_terms\n",
    "            i+=1\n",
    "print(\"done in %0.3fs\" % (time() - t0))"
   ]
  },
  {
   "cell_type": "code",
   "execution_count": 11,
   "metadata": {},
   "outputs": [
    {
     "data": {
      "image/png": "[encoded data removed]",
      "text/plain": [
       "<Figure size 432x432 with 1 Axes>"
      ]
     },
     "metadata": {
      "needs_background": "light"
     },
     "output_type": "display_data"
    }
   ],
   "source": [
    "import matplotlib.pyplot as plt\n",
    "plt.figure(figsize=(6, 6))\n",
    "plt.plot(range(len(silhouette_avg)), silhouette_avg, '-*')\n",
    "plt.xlabel(r'Run number')\n",
    "plt.ylabel('Silhouette coefficient values')\n",
    "plt.show()"
   ]
  },
  {
   "cell_type": "markdown",
   "metadata": {},
   "source": [
    "I re-run a parameter search several times, the first thing I noticed was that min_df was the most significant contributing factor towards silhouette score. The main issue here was that the more aggressively we pruned sparse words from our limited corpus of ~23k distinct words, we ended up with very few words per post to differentiate between clusters. The issue is with optimising for silhouette score. We end up with highly distinguishable clusters in a higher-dimensional place but in human terms we can't really distinguish between them. Probably an indication that silhouette score is not a very good measure in this case. Unfortunately didn't have time to investigate topic and word coherence measures.\n",
    "\n",
    "Maxing out at 12 clusters before we start having serious overlap. 12 may not be necessarily the optimal **interpretable** number but we can explore anything in the range 2-12.\n",
    "\n",
    "Leveraging bi-grams and tri-grams helped a bit."
   ]
  },
  {
   "cell_type": "code",
   "execution_count": 12,
   "metadata": {},
   "outputs": [
    {
     "name": "stdout",
     "output_type": "stream",
     "text": [
      "Run 15 has the best performance, Silhouette Coefficient 0.095 with params: {'min_df': 0.01, 'max_df': 0.25, 'ngrams': (1, 3), 'clusters': 5}\n",
      "Top terms for most performant clustering config: \n",
      "\n",
      "Cluster 0 terms: ['thank', 'll', 'ok', 'dm', 'good', 'guys', 'did', 'sent', 'working', 'love', 'just', 'spotify', 'hi', 'really', 'help', 'service', 'got', 'music', 'yes', 'account']\n",
      "Cluster 1 terms: ['version', 'spotify', 'android', 'iphone', 'ios', '11', 'ios 11', 'latest', 'app', 'using', '10', 'update', 'updated', 'windows', 'phone', 'just', 'desktop', 'issue', 'device', 'screen']\n",
      "Cluster 2 terms: ['songs', 'song', 'playlist', 'play', 'playing', 'album', 'downloaded', 'playlists', 'like', 'app', 'listen', 'spotify', 'available', 'artist', 'just', 'hey', 'add', 'phone', 'way', 'music']\n",
      "Cluster 3 terms: ['thanks', 'help', 'guys', 'just', 'dm', 've', 'sent', 'got', 'spotify', 'problem', 'update', 'll', 'working', 'issue', 'hey', 'account', 'hi', 'app', 'email', 'really']\n",
      "Cluster 4 terms: ['account', 'help', 'premium', 'spotify', 'just', 'app', 'music', 'hi', 'family', 've', 'dm', 'like', 'don', 'student', 'email', 'need', 'tried', 'guys', 'hey', 'thanks']\n"
     ]
    }
   ],
   "source": [
    "import numpy as np\n",
    "print('Run %i has the best performance, Silhouette Coefficient %.3f with params: %s' \n",
    "      % (np.argmax(silhouette_avg), max(silhouette_avg), params[np.argmax(silhouette_avg)]))\n",
    "\n",
    "\n",
    "print('Top terms for most performant clustering config: \\n')\n",
    "for key, value in run_top_terms[np.argmax(silhouette_avg)].items():\n",
    "    print('Cluster %i terms: %s' % (key, value))"
   ]
  },
  {
   "cell_type": "markdown",
   "metadata": {},
   "source": [
    "From the above we could construct themes as such:\n",
    "\n",
    "1) General\n",
    "\n",
    "2) Update related issue\n",
    "\n",
    "3) Content related query (eg. song, artist or playlist availability)\n",
    "\n",
    "4) Technical issue\n",
    "\n",
    "5) Subscription and account related issue (eg. family account, premium subscription, student account)\n",
    "\n",
    "Let's create a map for those."
   ]
  },
  {
   "cell_type": "code",
   "execution_count": 43,
   "metadata": {},
   "outputs": [],
   "source": [
    "topic_map = {0: 'General', 1: 'Update related issue', 2: 'Content related query', 3: 'Technical issue', \n",
    "             4: 'Subscription and account related issue'}"
   ]
  },
  {
   "cell_type": "markdown",
   "metadata": {},
   "source": [
    "Let's finalize this model."
   ]
  },
  {
   "cell_type": "code",
   "execution_count": 44,
   "metadata": {},
   "outputs": [
    {
     "name": "stdout",
     "output_type": "stream",
     "text": [
      "done in 1.343s\n"
     ]
    }
   ],
   "source": [
    "params = {'min_df': 0.01, 'max_df': 0.25, 'ngrams': (1, 3), 'clusters': 5}\n",
    "t0 = time()\n",
    "vectorizer = TfidfVectorizer(sublinear_tf=True, max_df=params['max_df'], min_df=params['min_df'], stop_words='english', \n",
    "                             ngram_range=params['ngrams'])\n",
    "pipeline = make_pipeline(vectorizer, TfidfTransformer(), Normalizer(copy=False),\n",
    "                                    KMeans(n_clusters=params['clusters'], init='k-means++', \n",
    "                                           max_iter=100, n_init=1, verbose=False))\n",
    "pipeline.fit(data['message_body'].values)\n",
    "print(\"done in %0.3fs\" % (time() - t0))"
   ]
  },
  {
   "cell_type": "code",
   "execution_count": 69,
   "metadata": {},
   "outputs": [
    {
     "name": "stdout",
     "output_type": "stream",
     "text": [
      "> Cluster 0: spotify account premium need doesn just work help song songs guys got good going getting fine free fix having feature\n",
      "\n",
      "> Cluster 1: thank ll ok dm good guys did sent working just love spotify hi really help service got yes music account\n",
      "\n",
      "> Cluster 2: app iphone spotify phone desktop ios android update music just songs time playing doesn version ve updated downloaded song does\n",
      "\n",
      "> Cluster 3: thanks help guys just spotify ve got problem dm working hey update hi issue account email did getting 10 try\n",
      "\n",
      "> Cluster 4: spotify account help just premium songs music hi like song ve family don dm playlist version need hey email student\n",
      "\n"
     ]
    }
   ],
   "source": [
    "pipeline.predict(data['message_body'].values)\n",
    "res = pipeline.steps[3][1].cluster_centers_.argsort()[:, ::-1]\n",
    "terms = pipeline.steps[0][1].get_feature_names()\n",
    "for cluster in range(len(res)):\n",
    "    print(\"> Cluster %d:\" % cluster, end='')\n",
    "    for ind in res[cluster, :20]:\n",
    "        print(' %s' % terms[ind], end='')\n",
    "    print('\\n')"
   ]
  },
  {
   "cell_type": "code",
   "execution_count": 52,
   "metadata": {},
   "outputs": [],
   "source": [
    "data['topic_number'] = pipeline.predict(data['message_body'].values)\n",
    "data['topic_name'] = data['topic_number'].map(topic_map)"
   ]
  },
  {
   "cell_type": "code",
   "execution_count": 59,
   "metadata": {},
   "outputs": [
    {
     "data": {
      "text/plain": [
       "([0, 1, 2, 3, 4], <a list of 5 Text major ticklabel objects>)"
      ]
     },
     "execution_count": 59,
     "metadata": {},
     "output_type": "execute_result"
    },
    {
     "data": {
      "image/png": "[encoded data removed]",
      "text/plain": [
       "<Figure size 432x288 with 1 Axes>"
      ]
     },
     "metadata": {
      "needs_background": "light"
     },
     "output_type": "display_data"
    }
   ],
   "source": [
    "data.topic_name.hist(bins=5)\n",
    "plt.xticks(rotation=90)"
   ]
  },
  {
   "cell_type": "markdown",
   "metadata": {},
   "source": [
    "### Final remarks"
   ]
  },
  {
   "cell_type": "markdown",
   "metadata": {},
   "source": [
    "This isn't very good. Results are extremely skewed and visually inspecting some samples most are not a great match. \n",
    "\n",
    "I think the issue here is that the data have a very specific vocabulary, a bag-of-words approach would have probably worked better as it would better adapt to the use-case specific vocabulary."
   ]
  },
  {
   "cell_type": "code",
   "execution_count": 68,
   "metadata": {},
   "outputs": [],
   "source": [
    "data.to_csv('final_results.csv')"
   ]
  },
  {
   "cell_type": "markdown",
   "metadata": {},
   "source": [
    "Let's try with a different approach for interpreting results (theoretically interpretability should be higher here). Unfortunately these are not very useful as the base classes don't have predict methods so can't be used in a production system."
   ]
  },
  {
   "cell_type": "code",
   "execution_count": 16,
   "metadata": {},
   "outputs": [],
   "source": [
    "def print_top_words(model, feature_names, n_top_words):\n",
    "    for topic_idx, topic in enumerate(model.components_):\n",
    "        message = \"Topic %d: \" % topic_idx\n",
    "        message += \" \".join([feature_names[i]\n",
    "                             for i in topic.argsort()[:-n_top_words - 1:-1]])\n",
    "        print(message)\n",
    "    print()"
   ]
  },
  {
   "cell_type": "code",
   "execution_count": 60,
   "metadata": {
    "scrolled": false
   },
   "outputs": [
    {
     "name": "stdout",
     "output_type": "stream",
     "text": [
      "Top terms per cluster:\n",
      "Topic 0: thank help iphone problem does need 10 didn sure support ios using desktop windows issues having spotify account times im app\n",
      "Topic 1: thanks like want playlist don songs playlists way available really add facebook make new device access right artists happens updated\n",
      "Topic 2: premium account family email student know charged trying help free card subscription getting got payment yes hello let months won\n",
      "Topic 3: music spotify guys android app issue did time working fix version playing phone good think day log listen able going\n",
      "Topic 4: dm album work doesn song sent ve ll play artist error service message ok love tried works try link albums\n",
      "\n"
     ]
    }
   ],
   "source": [
    "params = {'min_df': 0.01, 'max_df': 0.25, 'ngrams': (1, 3), 'clusters': 5}\n",
    "t0 = time()\n",
    "vectorizer = TfidfVectorizer(sublinear_tf=True, max_df=params['max_df'], min_df=params['min_df'], stop_words='english', \n",
    "                             ngram_range=params['ngrams'])\n",
    "vectorizer_pipeline = make_pipeline(vectorizer, TfidfTransformer())\n",
    "X = vectorizer_pipeline.fit_transform(data['message_body'].values)\n",
    "##                 LSA active\n",
    "#                 svd = TruncatedSVD(1000)\n",
    "#                 X = svd.fit_transform(X)\n",
    "normalizer = Normalizer(copy=False)\n",
    "normalizer.fit_transform(X)\n",
    "model = LatentDirichletAllocation(n_components=params['clusters'], max_iter=5, learning_method='online', learning_offset=50.)\n",
    "# model = LatentDirichletAllocation(n_components=10, max_iter=5, learning_method='online', learning_offset=50.)\n",
    "# model = NMF(n_components=n, alpha=.1, l1_ratio=.5)\n",
    "# model = NMF(n_components=n, beta_loss='kullback-leibler', solver='mu', max_iter=1000, alpha=.1, l1_ratio=.5)\n",
    "model.fit(X)\n",
    "print(\"Top terms per cluster:\")\n",
    "terms = vectorizer.get_feature_names()\n",
    "print_top_words(model, terms, 20)"
   ]
  },
  {
   "cell_type": "markdown",
   "metadata": {},
   "source": [
    "From the above we could construct themes as such:\n",
    "\n",
    "1) Update related issue\n",
    "\n",
    "2) Subscription related query\n",
    "\n",
    "3) Technical issue\n",
    "\n",
    "4) Account related issue (login, family-accounts)\n",
    "\n",
    "5) Playlist syncing"
   ]
  },
  {
   "cell_type": "markdown",
   "metadata": {},
   "source": [
    "### Next steps\n",
    "1. Gaussian mixture model - probabilistic, so we can assess probability of being assigned to correct cluster and optimise with a log-loss function\n",
    "2. LDA based topic modelling as an alternative (with GenSim/LDAVis for visual analysis)"
   ]
  }
 ],
 "metadata": {
  "kernelspec": {
   "display_name": "Python 3",
   "language": "python",
   "name": "python3"
  },
  "language_info": {
   "codemirror_mode": {
    "name": "ipython",
    "version": 3
   },
   "file_extension": ".py",
   "mimetype": "text/x-python",
   "name": "python",
   "nbconvert_exporter": "python",
   "pygments_lexer": "ipython3",
   "version": "3.8.2"
  }
 },
 "nbformat": 4,
 "nbformat_minor": 2
}
